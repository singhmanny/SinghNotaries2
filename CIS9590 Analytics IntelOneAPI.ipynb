{
 "cells": [
  {
   "cell_type": "code",
   "execution_count": 1,
   "id": "a91684c2-3f24-41ee-8708-2ec03d40acf7",
   "metadata": {},
   "outputs": [],
   "source": [
    "import pandas as pd\n",
    "import numpy as np\n",
    "import matplotlib.pyplot as plt"
   ]
  },
  {
   "cell_type": "code",
   "execution_count": 2,
   "id": "20bb92e7-37da-4ad7-a8de-da810cc2bbff",
   "metadata": {},
   "outputs": [],
   "source": [
    "df = pd.read_csv('Sample Data CSV.csv', low_memory=False)\n"
   ]
  },
  {
   "cell_type": "code",
   "execution_count": 3,
   "id": "d80b2356-0b2d-43f6-b667-3f6f61bf6eda",
   "metadata": {},
   "outputs": [
    {
     "data": {
      "text/html": [
       "<div>\n",
       "<style scoped>\n",
       "    .dataframe tbody tr th:only-of-type {\n",
       "        vertical-align: middle;\n",
       "    }\n",
       "\n",
       "    .dataframe tbody tr th {\n",
       "        vertical-align: top;\n",
       "    }\n",
       "\n",
       "    .dataframe thead th {\n",
       "        text-align: right;\n",
       "    }\n",
       "</style>\n",
       "<table border=\"1\" class=\"dataframe\">\n",
       "  <thead>\n",
       "    <tr style=\"text-align: right;\">\n",
       "      <th></th>\n",
       "      <th>First Name</th>\n",
       "      <th>Last Name</th>\n",
       "      <th>Address</th>\n",
       "      <th>City</th>\n",
       "      <th>State</th>\n",
       "      <th>Country</th>\n",
       "      <th>Email ID</th>\n",
       "      <th>Phone Number</th>\n",
       "      <th>Service</th>\n",
       "      <th>Amount</th>\n",
       "      <th>Date</th>\n",
       "    </tr>\n",
       "  </thead>\n",
       "  <tbody>\n",
       "    <tr>\n",
       "      <th>0</th>\n",
       "      <td>John</td>\n",
       "      <td>Doe</td>\n",
       "      <td>123 Main St</td>\n",
       "      <td>New York</td>\n",
       "      <td>NY</td>\n",
       "      <td>USA</td>\n",
       "      <td>john.doe@example.com</td>\n",
       "      <td>123-456-7890</td>\n",
       "      <td>Document Notarization</td>\n",
       "      <td>10</td>\n",
       "      <td>5/1/2023</td>\n",
       "    </tr>\n",
       "    <tr>\n",
       "      <th>1</th>\n",
       "      <td>Jane</td>\n",
       "      <td>Smith</td>\n",
       "      <td>456 Elm St</td>\n",
       "      <td>Los Angeles</td>\n",
       "      <td>CA</td>\n",
       "      <td>USA</td>\n",
       "      <td>jane.smith@example.com</td>\n",
       "      <td>234-567-8901</td>\n",
       "      <td>Consultancy</td>\n",
       "      <td>50</td>\n",
       "      <td>5/2/2023</td>\n",
       "    </tr>\n",
       "    <tr>\n",
       "      <th>2</th>\n",
       "      <td>David</td>\n",
       "      <td>Johnson</td>\n",
       "      <td>789 Oak Ave</td>\n",
       "      <td>Chicago</td>\n",
       "      <td>IL</td>\n",
       "      <td>USA</td>\n",
       "      <td>david.johnson@example.com</td>\n",
       "      <td>345-678-9012</td>\n",
       "      <td>Document Translation</td>\n",
       "      <td>20</td>\n",
       "      <td>5/3/2023</td>\n",
       "    </tr>\n",
       "    <tr>\n",
       "      <th>3</th>\n",
       "      <td>Sarah</td>\n",
       "      <td>Williams</td>\n",
       "      <td>321 Pine St</td>\n",
       "      <td>Houston</td>\n",
       "      <td>TX</td>\n",
       "      <td>USA</td>\n",
       "      <td>sarah.williams@example.com</td>\n",
       "      <td>456-789-0123</td>\n",
       "      <td>Document Notarization</td>\n",
       "      <td>10</td>\n",
       "      <td>5/4/2023</td>\n",
       "    </tr>\n",
       "    <tr>\n",
       "      <th>4</th>\n",
       "      <td>Michael</td>\n",
       "      <td>Brown</td>\n",
       "      <td>654 Cedar Rd</td>\n",
       "      <td>Miami</td>\n",
       "      <td>FL</td>\n",
       "      <td>USA</td>\n",
       "      <td>michael.brown@example.com</td>\n",
       "      <td>567-890-1234</td>\n",
       "      <td>Consultancy</td>\n",
       "      <td>50</td>\n",
       "      <td>5/5/2023</td>\n",
       "    </tr>\n",
       "    <tr>\n",
       "      <th>...</th>\n",
       "      <td>...</td>\n",
       "      <td>...</td>\n",
       "      <td>...</td>\n",
       "      <td>...</td>\n",
       "      <td>...</td>\n",
       "      <td>...</td>\n",
       "      <td>...</td>\n",
       "      <td>...</td>\n",
       "      <td>...</td>\n",
       "      <td>...</td>\n",
       "      <td>...</td>\n",
       "    </tr>\n",
       "    <tr>\n",
       "      <th>56</th>\n",
       "      <td>Daniel</td>\n",
       "      <td>Henderson</td>\n",
       "      <td>852 Elmwood Dr</td>\n",
       "      <td>Denver</td>\n",
       "      <td>CO</td>\n",
       "      <td>USA</td>\n",
       "      <td>daniel.henderson@example.com</td>\n",
       "      <td>123-456-7890</td>\n",
       "      <td>Consultancy</td>\n",
       "      <td>50</td>\n",
       "      <td>5/12/2023</td>\n",
       "    </tr>\n",
       "    <tr>\n",
       "      <th>57</th>\n",
       "      <td>Sophia</td>\n",
       "      <td>Perry</td>\n",
       "      <td>753 Maplewood Dr</td>\n",
       "      <td>Austin</td>\n",
       "      <td>TX</td>\n",
       "      <td>USA</td>\n",
       "      <td>sophia.perry@example.com</td>\n",
       "      <td>234-567-8901</td>\n",
       "      <td>Document Translation</td>\n",
       "      <td>20</td>\n",
       "      <td>5/1/2023</td>\n",
       "    </tr>\n",
       "    <tr>\n",
       "      <th>58</th>\n",
       "      <td>Noah</td>\n",
       "      <td>Griffin</td>\n",
       "      <td>258 Oakhurst Rd</td>\n",
       "      <td>San Diego</td>\n",
       "      <td>CA</td>\n",
       "      <td>USA</td>\n",
       "      <td>noah.griffin@example.com</td>\n",
       "      <td>345-678-9012</td>\n",
       "      <td>Document Notarization</td>\n",
       "      <td>10</td>\n",
       "      <td>5/2/2023</td>\n",
       "    </tr>\n",
       "    <tr>\n",
       "      <th>59</th>\n",
       "      <td>Mia</td>\n",
       "      <td>Sullivan</td>\n",
       "      <td>963 Pineview Ave</td>\n",
       "      <td>Boston</td>\n",
       "      <td>MA</td>\n",
       "      <td>USA</td>\n",
       "      <td>mia.sullivan@example.com</td>\n",
       "      <td>456-789-0123</td>\n",
       "      <td>Consultancy</td>\n",
       "      <td>50</td>\n",
       "      <td>5/10/2023</td>\n",
       "    </tr>\n",
       "    <tr>\n",
       "      <th>60</th>\n",
       "      <td>Elijah</td>\n",
       "      <td>Foster</td>\n",
       "      <td>357 Elmwood Dr</td>\n",
       "      <td>Orlando</td>\n",
       "      <td>FL</td>\n",
       "      <td>USA</td>\n",
       "      <td>elijah.foster@example.com</td>\n",
       "      <td>567-890-1234</td>\n",
       "      <td>Document Translation</td>\n",
       "      <td>20</td>\n",
       "      <td>5/11/2023</td>\n",
       "    </tr>\n",
       "  </tbody>\n",
       "</table>\n",
       "<p>61 rows × 11 columns</p>\n",
       "</div>"
      ],
      "text/plain": [
       "   First Name  Last Name           Address         City State Country  \\\n",
       "0        John        Doe       123 Main St     New York    NY     USA   \n",
       "1        Jane      Smith        456 Elm St  Los Angeles    CA     USA   \n",
       "2       David    Johnson       789 Oak Ave      Chicago    IL     USA   \n",
       "3       Sarah   Williams       321 Pine St      Houston    TX     USA   \n",
       "4     Michael      Brown      654 Cedar Rd        Miami    FL     USA   \n",
       "..        ...        ...               ...          ...   ...     ...   \n",
       "56     Daniel  Henderson    852 Elmwood Dr       Denver    CO     USA   \n",
       "57     Sophia      Perry  753 Maplewood Dr       Austin    TX     USA   \n",
       "58       Noah    Griffin   258 Oakhurst Rd    San Diego    CA     USA   \n",
       "59        Mia   Sullivan  963 Pineview Ave       Boston    MA     USA   \n",
       "60     Elijah     Foster    357 Elmwood Dr      Orlando    FL     USA   \n",
       "\n",
       "                        Email ID  Phone Number                Service  Amount  \\\n",
       "0           john.doe@example.com  123-456-7890  Document Notarization      10   \n",
       "1         jane.smith@example.com  234-567-8901            Consultancy      50   \n",
       "2      david.johnson@example.com  345-678-9012   Document Translation      20   \n",
       "3     sarah.williams@example.com  456-789-0123  Document Notarization      10   \n",
       "4      michael.brown@example.com  567-890-1234            Consultancy      50   \n",
       "..                           ...           ...                    ...     ...   \n",
       "56  daniel.henderson@example.com  123-456-7890            Consultancy      50   \n",
       "57      sophia.perry@example.com  234-567-8901   Document Translation      20   \n",
       "58      noah.griffin@example.com  345-678-9012  Document Notarization      10   \n",
       "59      mia.sullivan@example.com  456-789-0123            Consultancy      50   \n",
       "60     elijah.foster@example.com  567-890-1234   Document Translation      20   \n",
       "\n",
       "         Date  \n",
       "0    5/1/2023  \n",
       "1    5/2/2023  \n",
       "2    5/3/2023  \n",
       "3    5/4/2023  \n",
       "4    5/5/2023  \n",
       "..        ...  \n",
       "56  5/12/2023  \n",
       "57   5/1/2023  \n",
       "58   5/2/2023  \n",
       "59  5/10/2023  \n",
       "60  5/11/2023  \n",
       "\n",
       "[61 rows x 11 columns]"
      ]
     },
     "execution_count": 3,
     "metadata": {},
     "output_type": "execute_result"
    }
   ],
   "source": [
    "df"
   ]
  },
  {
   "cell_type": "code",
   "execution_count": 4,
   "id": "270c4420-7da1-4d4e-90db-62e27c7a6363",
   "metadata": {},
   "outputs": [],
   "source": [
    "# Grouping by states\n",
    "df_state = df.groupby(['State']).agg({'State':'count'})"
   ]
  },
  {
   "cell_type": "code",
   "execution_count": 5,
   "id": "e7a11b5a-3250-4c2c-9dd4-6b7442755604",
   "metadata": {},
   "outputs": [
    {
     "data": {
      "text/html": [
       "<div>\n",
       "<style scoped>\n",
       "    .dataframe tbody tr th:only-of-type {\n",
       "        vertical-align: middle;\n",
       "    }\n",
       "\n",
       "    .dataframe tbody tr th {\n",
       "        vertical-align: top;\n",
       "    }\n",
       "\n",
       "    .dataframe thead th {\n",
       "        text-align: right;\n",
       "    }\n",
       "</style>\n",
       "<table border=\"1\" class=\"dataframe\">\n",
       "  <thead>\n",
       "    <tr style=\"text-align: right;\">\n",
       "      <th></th>\n",
       "      <th>State</th>\n",
       "    </tr>\n",
       "    <tr>\n",
       "      <th>State</th>\n",
       "      <th></th>\n",
       "    </tr>\n",
       "  </thead>\n",
       "  <tbody>\n",
       "    <tr>\n",
       "      <th>AZ</th>\n",
       "      <td>4</td>\n",
       "    </tr>\n",
       "    <tr>\n",
       "      <th>CA</th>\n",
       "      <td>13</td>\n",
       "    </tr>\n",
       "    <tr>\n",
       "      <th>CO</th>\n",
       "      <td>4</td>\n",
       "    </tr>\n",
       "    <tr>\n",
       "      <th>FL</th>\n",
       "      <td>8</td>\n",
       "    </tr>\n",
       "    <tr>\n",
       "      <th>GA</th>\n",
       "      <td>4</td>\n",
       "    </tr>\n",
       "    <tr>\n",
       "      <th>IL</th>\n",
       "      <td>3</td>\n",
       "    </tr>\n",
       "    <tr>\n",
       "      <th>MA</th>\n",
       "      <td>3</td>\n",
       "    </tr>\n",
       "    <tr>\n",
       "      <th>NY</th>\n",
       "      <td>2</td>\n",
       "    </tr>\n",
       "    <tr>\n",
       "      <th>PA</th>\n",
       "      <td>4</td>\n",
       "    </tr>\n",
       "    <tr>\n",
       "      <th>TX</th>\n",
       "      <td>12</td>\n",
       "    </tr>\n",
       "    <tr>\n",
       "      <th>WA</th>\n",
       "      <td>4</td>\n",
       "    </tr>\n",
       "  </tbody>\n",
       "</table>\n",
       "</div>"
      ],
      "text/plain": [
       "       State\n",
       "State       \n",
       "AZ         4\n",
       "CA        13\n",
       "CO         4\n",
       "FL         8\n",
       "GA         4\n",
       "IL         3\n",
       "MA         3\n",
       "NY         2\n",
       "PA         4\n",
       "TX        12\n",
       "WA         4"
      ]
     },
     "execution_count": 5,
     "metadata": {},
     "output_type": "execute_result"
    }
   ],
   "source": [
    "df_state"
   ]
  },
  {
   "cell_type": "code",
   "execution_count": 6,
   "id": "d0b4b9bb-ef5a-4ce2-81ea-587067c9342a",
   "metadata": {},
   "outputs": [],
   "source": [
    "# Grouping by Notary Service\n",
    "df_service = df.groupby(['Service']).agg({'Service':'count'})"
   ]
  },
  {
   "cell_type": "code",
   "execution_count": 7,
   "id": "4b1e97fc-50ef-41d7-9ec4-c9b2005626d8",
   "metadata": {},
   "outputs": [
    {
     "data": {
      "text/html": [
       "<div>\n",
       "<style scoped>\n",
       "    .dataframe tbody tr th:only-of-type {\n",
       "        vertical-align: middle;\n",
       "    }\n",
       "\n",
       "    .dataframe tbody tr th {\n",
       "        vertical-align: top;\n",
       "    }\n",
       "\n",
       "    .dataframe thead th {\n",
       "        text-align: right;\n",
       "    }\n",
       "</style>\n",
       "<table border=\"1\" class=\"dataframe\">\n",
       "  <thead>\n",
       "    <tr style=\"text-align: right;\">\n",
       "      <th></th>\n",
       "      <th>Service</th>\n",
       "    </tr>\n",
       "    <tr>\n",
       "      <th>Service</th>\n",
       "      <th></th>\n",
       "    </tr>\n",
       "  </thead>\n",
       "  <tbody>\n",
       "    <tr>\n",
       "      <th>Consultancy</th>\n",
       "      <td>20</td>\n",
       "    </tr>\n",
       "    <tr>\n",
       "      <th>Document Notarization</th>\n",
       "      <td>21</td>\n",
       "    </tr>\n",
       "    <tr>\n",
       "      <th>Document Translation</th>\n",
       "      <td>20</td>\n",
       "    </tr>\n",
       "  </tbody>\n",
       "</table>\n",
       "</div>"
      ],
      "text/plain": [
       "                       Service\n",
       "Service                       \n",
       "Consultancy                 20\n",
       "Document Notarization       21\n",
       "Document Translation        20"
      ]
     },
     "execution_count": 7,
     "metadata": {},
     "output_type": "execute_result"
    }
   ],
   "source": [
    "df_service"
   ]
  },
  {
   "cell_type": "code",
   "execution_count": 8,
   "id": "29bd99d2-2e53-49e9-861e-830b79d1d2c0",
   "metadata": {},
   "outputs": [],
   "source": [
    "#for Graph\n",
    "data = pd.read_csv('Sample Data CSV.csv')                           "
   ]
  },
  {
   "cell_type": "code",
   "execution_count": 9,
   "id": "89cfdc37-235d-45a0-9884-d2d365f93df8",
   "metadata": {},
   "outputs": [],
   "source": [
    "data['Date'] = pd.to_datetime(data['Date'])"
   ]
  },
  {
   "cell_type": "code",
   "execution_count": 10,
   "id": "c0c0cc0e-c4df-41c4-8fe2-87f038a27aac",
   "metadata": {},
   "outputs": [],
   "source": [
    "grouped_data = data.groupby('Date')['Amount'].sum().reset_index()"
   ]
  },
  {
   "cell_type": "code",
   "execution_count": 11,
   "id": "1977ee9f-2620-4bed-b533-e8211664b24a",
   "metadata": {},
   "outputs": [],
   "source": [
    "# Sort the data by date\n",
    "grouped_data = grouped_data.sort_values('Date')"
   ]
  },
  {
   "cell_type": "code",
   "execution_count": 12,
   "id": "b0d7e656-3271-4186-9956-b69b3cafadd0",
   "metadata": {},
   "outputs": [
    {
     "data": {
      "text/plain": [
       "(array([19478., 19480., 19482., 19484., 19486., 19488.]),\n",
       " [Text(19478.0, 0, '2023-05-01'),\n",
       "  Text(19480.0, 0, '2023-05-03'),\n",
       "  Text(19482.0, 0, '2023-05-05'),\n",
       "  Text(19484.0, 0, '2023-05-07'),\n",
       "  Text(19486.0, 0, '2023-05-09'),\n",
       "  Text(19488.0, 0, '2023-05-11')])"
      ]
     },
     "execution_count": 12,
     "metadata": {},
     "output_type": "execute_result"
    },
    {
     "data": {
      "image/png": "[encoded data removed]",
      "text/plain": [
       "<Figure size 640x480 with 1 Axes>"
      ]
     },
     "metadata": {},
     "output_type": "display_data"
    }
   ],
   "source": [
    "\n",
    "# Create a bar plot\n",
    "plt.bar(grouped_data['Date'], grouped_data['Amount'])\n",
    "plt.xlabel('Date')\n",
    "plt.ylabel('Amount')\n",
    "plt.title('Amount Over Date')\n",
    "plt.xticks(rotation=45)"
   ]
  },
  {
   "cell_type": "code",
   "execution_count": 13,
   "id": "1cdea3a0-739f-402a-aa6e-65f29ce82a63",
   "metadata": {},
   "outputs": [],
   "source": [
    "# Group the data by state and service and count the occurrences\n",
    "grouped_data = data.groupby(['State', 'Service']).size().unstack()\n"
   ]
  },
  {
   "cell_type": "code",
   "execution_count": 14,
   "id": "baa6c891-545e-4366-8d58-07408fcd9bb5",
   "metadata": {},
   "outputs": [
    {
     "data": {
      "text/plain": [
       "Text(0.5, 1.0, 'Distribution of Services by State')"
      ]
     },
     "execution_count": 14,
     "metadata": {},
     "output_type": "execute_result"
    },
    {
     "data": {
      "image/png": "[encoded data removed]",
      "text/plain": [
       "<Figure size 640x480 with 1 Axes>"
      ]
     },
     "metadata": {},
     "output_type": "display_data"
    }
   ],
   "source": [
    "\n",
    "# Plot the bar chart\n",
    "grouped_data.plot(kind='bar', stacked=True)\n",
    "plt.xlabel('State')\n",
    "plt.ylabel('Count')\n",
    "plt.title('Distribution of Services by State')"
   ]
  },
  {
   "cell_type": "code",
   "execution_count": 15,
   "id": "e27c5157-753f-43ad-ae3a-aa64e3e0058e",
   "metadata": {},
   "outputs": [],
   "source": [
    "# Group the data by state and service and count the occurrences\n",
    "grouped_data = data.groupby(['State', 'Service']).size().unstack()"
   ]
  },
  {
   "cell_type": "code",
   "execution_count": 16,
   "id": "c8e7c8ac-9f75-40d9-9ba8-1c8c8d1a391b",
   "metadata": {},
   "outputs": [
    {
     "name": "stdout",
     "output_type": "stream",
     "text": [
      "Service  Consultancy  Document Notarization  Document Translation\n",
      "State                                                            \n",
      "AZ               3.0                    NaN                   1.0\n",
      "CA               7.0                    6.0                   NaN\n",
      "CO               2.0                    NaN                   2.0\n",
      "FL               2.0                    1.0                   5.0\n",
      "GA               NaN                    2.0                   2.0\n",
      "IL               NaN                    NaN                   3.0\n",
      "MA               2.0                    1.0                   NaN\n",
      "NY               NaN                    2.0                   NaN\n",
      "PA               1.0                    2.0                   1.0\n",
      "TX               NaN                    7.0                   5.0\n",
      "WA               3.0                    NaN                   1.0\n"
     ]
    }
   ],
   "source": [
    "print(grouped_data)\n",
    "\n"
   ]
  },
  {
   "cell_type": "code",
   "execution_count": null,
   "id": "170f4971-4afb-4a06-ae28-e9f2e4c3337d",
   "metadata": {},
   "outputs": [],
   "source": []
  }
 ],
 "metadata": {
  "kernelspec": {
   "display_name": "Python 3 (Intel® oneAPI 2023.1)",
   "language": "python",
   "name": "c009-intel_distribution_of_python_3_oneapi-beta05-python"
  },
  "language_info": {
   "codemirror_mode": {
    "name": "ipython",
    "version": 3
   },
   "file_extension": ".py",
   "mimetype": "text/x-python",
   "name": "python",
   "nbconvert_exporter": "python",
   "pygments_lexer": "ipython3",
   "version": "3.9.16"
  }
 },
 "nbformat": 4,
 "nbformat_minor": 5
}
