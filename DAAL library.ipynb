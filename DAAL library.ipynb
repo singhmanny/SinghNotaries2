{
 "cells": [
  {
   "cell_type": "code",
   "execution_count": 11,
   "id": "593c5dd6-b25c-41d0-964a-4995453b26c9",
   "metadata": {},
   "outputs": [],
   "source": [
    "from daal4py import daalinit\n",
    "from daal4py import low_order_moments\n",
    "import pandas as pd"
   ]
  },
  {
   "cell_type": "code",
   "execution_count": 12,
   "id": "8c766122-43a7-4801-81bf-e9c68d39b73d",
   "metadata": {},
   "outputs": [],
   "source": [
    "# Read the feedback data from CSV file\n",
    "data = pd.read_csv('Feedback Data.csv')"
   ]
  },
  {
   "cell_type": "code",
   "execution_count": 13,
   "id": "b8a36690-61e4-4514-8dfe-b842d8085ad5",
   "metadata": {},
   "outputs": [],
   "source": [
    "# Extract the columns of interest for analysis\n",
    "age_data = data['age']\n",
    "satisfaction_data = data['satisfaction']"
   ]
  },
  {
   "cell_type": "code",
   "execution_count": 15,
   "id": "cbb0b786-9eda-4997-ad41-50f2c82ec8e6",
   "metadata": {},
   "outputs": [],
   "source": [
    "# Convert the data to NumPy arrays\n",
    "age_array = age_data.to_numpy().reshape(-1, 1)\n",
    "satisfaction_array = satisfaction_data.to_numpy().reshape(-1, 1)"
   ]
  },
  {
   "cell_type": "code",
   "execution_count": 16,
   "id": "8bf4f075-4edf-4a5f-8264-6b3a2add536d",
   "metadata": {},
   "outputs": [],
   "source": [
    "# Calculate the mean and variance using oneDAL\n",
    "age_algo = low_order_moments(fptype='float')\n",
    "satisfaction_algo = low_order_moments(fptype='float')\n",
    "\n",
    "age_result = age_algo.compute(age_array)\n",
    "satisfaction_result = satisfaction_algo.compute(satisfaction_array)"
   ]
  },
  {
   "cell_type": "code",
   "execution_count": 18,
   "id": "6cef1162-3cb7-432f-aee7-9cad28b547a0",
   "metadata": {},
   "outputs": [],
   "source": [
    "age_mean = age_result.mean.ravel()\n",
    "age_variance = age_result.variance.ravel()\n",
    "\n",
    "satisfaction_mean = satisfaction_result.mean.ravel()\n",
    "satisfaction_variance = satisfaction_result.variance.ravel()"
   ]
  },
  {
   "cell_type": "code",
   "execution_count": 19,
   "id": "b33b7f1a-a7a4-4da8-abe3-ea50af6c6dcb",
   "metadata": {},
   "outputs": [
    {
     "name": "stdout",
     "output_type": "stream",
     "text": [
      "Age - Mean: [39.033337]\n",
      "Age - Variance: [84.575134]\n",
      "Satisfaction - Mean: [4.000001]\n",
      "Satisfaction - Variance: [0.61016965]\n"
     ]
    }
   ],
   "source": [
    "# Print the results\n",
    "print(\"Age - Mean:\", age_mean)\n",
    "print(\"Age - Variance:\", age_variance)\n",
    "print(\"Satisfaction - Mean:\", satisfaction_mean)\n",
    "print(\"Satisfaction - Variance:\", satisfaction_variance)"
   ]
  },
  {
   "cell_type": "code",
   "execution_count": null,
   "id": "d3a8bec7-04be-4ab3-9fa8-c6bcaf2ae61a",
   "metadata": {},
   "outputs": [],
   "source": []
  }
 ],
 "metadata": {
  "kernelspec": {
   "display_name": "Python 3 (Intel® oneAPI 2023.1)",
   "language": "python",
   "name": "c009-intel_distribution_of_python_3_oneapi-beta05-python"
  },
  "language_info": {
   "codemirror_mode": {
    "name": "ipython",
    "version": 3
   },
   "file_extension": ".py",
   "mimetype": "text/x-python",
   "name": "python",
   "nbconvert_exporter": "python",
   "pygments_lexer": "ipython3",
   "version": "3.9.16"
  }
 },
 "nbformat": 4,
 "nbformat_minor": 5
}
